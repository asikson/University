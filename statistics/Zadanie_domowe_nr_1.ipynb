{
  "nbformat": 4,
  "nbformat_minor": 0,
  "metadata": {
    "colab": {
      "name": "Zadanie domowe nr 1",
      "provenance": [],
      "collapsed_sections": []
    },
    "kernelspec": {
      "name": "python3",
      "display_name": "Python 3"
    },
    "language_info": {
      "name": "python"
    }
  },
  "cells": [
    {
      "cell_type": "markdown",
      "source": [
        "**Joanna Mielniczuk** \\\n",
        "Metody planowania i analizy eksperymentów \\\n",
        "Zadanie domowe nr 1"
      ],
      "metadata": {
        "id": "mR4M0oGs1tiD"
      }
    },
    {
      "cell_type": "markdown",
      "source": [
        "# Dane"
      ],
      "metadata": {
        "id": "VVuRFTcy2Ats"
      }
    },
    {
      "cell_type": "markdown",
      "source": [
        "Analizie poddano dane pochodzące ze strony gov.pl, zawierające\n",
        "informacje o dziennym przebiegu epidemii koronawirusa w Polsce z okresu maj - lipiec 2020 roku"
      ],
      "metadata": {
        "id": "Yrel2CJp2Dfu"
      }
    },
    {
      "cell_type": "code",
      "source": [
        "import pandas as pd\n",
        "import matplotlib.pyplot as plt\n",
        "import datetime as dt"
      ],
      "metadata": {
        "id": "lE4MPdJP2U-s"
      },
      "execution_count": null,
      "outputs": []
    },
    {
      "cell_type": "code",
      "source": [
        "!pip install odfpy"
      ],
      "metadata": {
        "id": "vwt437zZ24Fc"
      },
      "execution_count": null,
      "outputs": []
    },
    {
      "cell_type": "code",
      "source": [
        "# na potrzeby importu zostały wystawione na moim Githubie\n",
        "url = 'https://github.com/asikson/Stuff/blob/main/zaka%C5%BCenia_maj-lip.ods?raw=true'\n",
        "data = pd.read_excel(url, header=None, engine='odf')\n",
        "data.columns = ['Data', 'Nowe przypadki', 'Przypadki (kumulatywnie)', 'Zgony', \n",
        "                   'Zgony kumulatywnie', 'Ozdrowieńcy', 'Ozdrowieńcy kumulatywnie',\n",
        "                   'Aktywne przypadki', 'Kwarantanna', 'Nadzór']\n",
        "data"
      ],
      "metadata": {
        "colab": {
          "base_uri": "https://localhost:8080/",
          "height": 423
        },
        "id": "7eBeo5Sq2_bQ",
        "outputId": "24e1066b-acab-4b1b-ed66-59a552e8c4f7"
      },
      "execution_count": null,
      "outputs": [
        {
          "output_type": "execute_result",
          "data": {
            "text/plain": [
              "          Data  Nowe przypadki  Przypadki (kumulatywnie)  Zgony  \\\n",
              "0   01.05.2020             228                     13105      7   \n",
              "1   02.05.2020             270                     13375     12   \n",
              "2   03.05.2020             318                     13693     15   \n",
              "3   04.05.2020             313                     14006     19   \n",
              "4   05.05.2020             425                     14431     19   \n",
              "..         ...             ...                       ...    ...   \n",
              "87  27.07.2020             337                     43402      5   \n",
              "88  28.07.2020             502                     43904      6   \n",
              "89  29.07.2020             512                     44416     12   \n",
              "90  30.07.2020             615                     45031     15   \n",
              "91  31.07.2020             657                     45688      7   \n",
              "\n",
              "    Zgony kumulatywnie  Ozdrowieńcy  Ozdrowieńcy kumulatywnie  \\\n",
              "0                  649          271                      3762   \n",
              "1                  661          183                      3945   \n",
              "2                  676          150                      4095   \n",
              "3                  695          185                      4280   \n",
              "4                  714          375                      4655   \n",
              "..                 ...          ...                       ...   \n",
              "87                1676          187                     33043   \n",
              "88                1682          147                     33190   \n",
              "89                1694          453                     33643   \n",
              "90                1709          344                     33987   \n",
              "91                1716          387                     34374   \n",
              "\n",
              "    Aktywne przypadki  Kwarantanna  Nadzór  \n",
              "0                8694        95625   18383  \n",
              "1                8769        96612   18306  \n",
              "2                8922        96699   17785  \n",
              "3                9031       100765   17291  \n",
              "4                9062       101395   17081  \n",
              "..                ...          ...     ...  \n",
              "87               8683        94920    7245  \n",
              "88               9032        95453    6222  \n",
              "89               9079        97561    8094  \n",
              "90               9335        97189    8069  \n",
              "91               9598        98282    8241  \n",
              "\n",
              "[92 rows x 10 columns]"
            ],
            "text/html": [
              "\n",
              "  <div id=\"df-aa2ae4b3-c797-4c2b-8038-a6b621ecba2e\">\n",
              "    <div class=\"colab-df-container\">\n",
              "      <div>\n",
              "<style scoped>\n",
              "    .dataframe tbody tr th:only-of-type {\n",
              "        vertical-align: middle;\n",
              "    }\n",
              "\n",
              "    .dataframe tbody tr th {\n",
              "        vertical-align: top;\n",
              "    }\n",
              "\n",
              "    .dataframe thead th {\n",
              "        text-align: right;\n",
              "    }\n",
              "</style>\n",
              "<table border=\"1\" class=\"dataframe\">\n",
              "  <thead>\n",
              "    <tr style=\"text-align: right;\">\n",
              "      <th></th>\n",
              "      <th>Data</th>\n",
              "      <th>Nowe przypadki</th>\n",
              "      <th>Przypadki (kumulatywnie)</th>\n",
              "      <th>Zgony</th>\n",
              "      <th>Zgony kumulatywnie</th>\n",
              "      <th>Ozdrowieńcy</th>\n",
              "      <th>Ozdrowieńcy kumulatywnie</th>\n",
              "      <th>Aktywne przypadki</th>\n",
              "      <th>Kwarantanna</th>\n",
              "      <th>Nadzór</th>\n",
              "    </tr>\n",
              "  </thead>\n",
              "  <tbody>\n",
              "    <tr>\n",
              "      <th>0</th>\n",
              "      <td>01.05.2020</td>\n",
              "      <td>228</td>\n",
              "      <td>13105</td>\n",
              "      <td>7</td>\n",
              "      <td>649</td>\n",
              "      <td>271</td>\n",
              "      <td>3762</td>\n",
              "      <td>8694</td>\n",
              "      <td>95625</td>\n",
              "      <td>18383</td>\n",
              "    </tr>\n",
              "    <tr>\n",
              "      <th>1</th>\n",
              "      <td>02.05.2020</td>\n",
              "      <td>270</td>\n",
              "      <td>13375</td>\n",
              "      <td>12</td>\n",
              "      <td>661</td>\n",
              "      <td>183</td>\n",
              "      <td>3945</td>\n",
              "      <td>8769</td>\n",
              "      <td>96612</td>\n",
              "      <td>18306</td>\n",
              "    </tr>\n",
              "    <tr>\n",
              "      <th>2</th>\n",
              "      <td>03.05.2020</td>\n",
              "      <td>318</td>\n",
              "      <td>13693</td>\n",
              "      <td>15</td>\n",
              "      <td>676</td>\n",
              "      <td>150</td>\n",
              "      <td>4095</td>\n",
              "      <td>8922</td>\n",
              "      <td>96699</td>\n",
              "      <td>17785</td>\n",
              "    </tr>\n",
              "    <tr>\n",
              "      <th>3</th>\n",
              "      <td>04.05.2020</td>\n",
              "      <td>313</td>\n",
              "      <td>14006</td>\n",
              "      <td>19</td>\n",
              "      <td>695</td>\n",
              "      <td>185</td>\n",
              "      <td>4280</td>\n",
              "      <td>9031</td>\n",
              "      <td>100765</td>\n",
              "      <td>17291</td>\n",
              "    </tr>\n",
              "    <tr>\n",
              "      <th>4</th>\n",
              "      <td>05.05.2020</td>\n",
              "      <td>425</td>\n",
              "      <td>14431</td>\n",
              "      <td>19</td>\n",
              "      <td>714</td>\n",
              "      <td>375</td>\n",
              "      <td>4655</td>\n",
              "      <td>9062</td>\n",
              "      <td>101395</td>\n",
              "      <td>17081</td>\n",
              "    </tr>\n",
              "    <tr>\n",
              "      <th>...</th>\n",
              "      <td>...</td>\n",
              "      <td>...</td>\n",
              "      <td>...</td>\n",
              "      <td>...</td>\n",
              "      <td>...</td>\n",
              "      <td>...</td>\n",
              "      <td>...</td>\n",
              "      <td>...</td>\n",
              "      <td>...</td>\n",
              "      <td>...</td>\n",
              "    </tr>\n",
              "    <tr>\n",
              "      <th>87</th>\n",
              "      <td>27.07.2020</td>\n",
              "      <td>337</td>\n",
              "      <td>43402</td>\n",
              "      <td>5</td>\n",
              "      <td>1676</td>\n",
              "      <td>187</td>\n",
              "      <td>33043</td>\n",
              "      <td>8683</td>\n",
              "      <td>94920</td>\n",
              "      <td>7245</td>\n",
              "    </tr>\n",
              "    <tr>\n",
              "      <th>88</th>\n",
              "      <td>28.07.2020</td>\n",
              "      <td>502</td>\n",
              "      <td>43904</td>\n",
              "      <td>6</td>\n",
              "      <td>1682</td>\n",
              "      <td>147</td>\n",
              "      <td>33190</td>\n",
              "      <td>9032</td>\n",
              "      <td>95453</td>\n",
              "      <td>6222</td>\n",
              "    </tr>\n",
              "    <tr>\n",
              "      <th>89</th>\n",
              "      <td>29.07.2020</td>\n",
              "      <td>512</td>\n",
              "      <td>44416</td>\n",
              "      <td>12</td>\n",
              "      <td>1694</td>\n",
              "      <td>453</td>\n",
              "      <td>33643</td>\n",
              "      <td>9079</td>\n",
              "      <td>97561</td>\n",
              "      <td>8094</td>\n",
              "    </tr>\n",
              "    <tr>\n",
              "      <th>90</th>\n",
              "      <td>30.07.2020</td>\n",
              "      <td>615</td>\n",
              "      <td>45031</td>\n",
              "      <td>15</td>\n",
              "      <td>1709</td>\n",
              "      <td>344</td>\n",
              "      <td>33987</td>\n",
              "      <td>9335</td>\n",
              "      <td>97189</td>\n",
              "      <td>8069</td>\n",
              "    </tr>\n",
              "    <tr>\n",
              "      <th>91</th>\n",
              "      <td>31.07.2020</td>\n",
              "      <td>657</td>\n",
              "      <td>45688</td>\n",
              "      <td>7</td>\n",
              "      <td>1716</td>\n",
              "      <td>387</td>\n",
              "      <td>34374</td>\n",
              "      <td>9598</td>\n",
              "      <td>98282</td>\n",
              "      <td>8241</td>\n",
              "    </tr>\n",
              "  </tbody>\n",
              "</table>\n",
              "<p>92 rows × 10 columns</p>\n",
              "</div>\n",
              "      <button class=\"colab-df-convert\" onclick=\"convertToInteractive('df-aa2ae4b3-c797-4c2b-8038-a6b621ecba2e')\"\n",
              "              title=\"Convert this dataframe to an interactive table.\"\n",
              "              style=\"display:none;\">\n",
              "        \n",
              "  <svg xmlns=\"http://www.w3.org/2000/svg\" height=\"24px\"viewBox=\"0 0 24 24\"\n",
              "       width=\"24px\">\n",
              "    <path d=\"M0 0h24v24H0V0z\" fill=\"none\"/>\n",
              "    <path d=\"M18.56 5.44l.94 2.06.94-2.06 2.06-.94-2.06-.94-.94-2.06-.94 2.06-2.06.94zm-11 1L8.5 8.5l.94-2.06 2.06-.94-2.06-.94L8.5 2.5l-.94 2.06-2.06.94zm10 10l.94 2.06.94-2.06 2.06-.94-2.06-.94-.94-2.06-.94 2.06-2.06.94z\"/><path d=\"M17.41 7.96l-1.37-1.37c-.4-.4-.92-.59-1.43-.59-.52 0-1.04.2-1.43.59L10.3 9.45l-7.72 7.72c-.78.78-.78 2.05 0 2.83L4 21.41c.39.39.9.59 1.41.59.51 0 1.02-.2 1.41-.59l7.78-7.78 2.81-2.81c.8-.78.8-2.07 0-2.86zM5.41 20L4 18.59l7.72-7.72 1.47 1.35L5.41 20z\"/>\n",
              "  </svg>\n",
              "      </button>\n",
              "      \n",
              "  <style>\n",
              "    .colab-df-container {\n",
              "      display:flex;\n",
              "      flex-wrap:wrap;\n",
              "      gap: 12px;\n",
              "    }\n",
              "\n",
              "    .colab-df-convert {\n",
              "      background-color: #E8F0FE;\n",
              "      border: none;\n",
              "      border-radius: 50%;\n",
              "      cursor: pointer;\n",
              "      display: none;\n",
              "      fill: #1967D2;\n",
              "      height: 32px;\n",
              "      padding: 0 0 0 0;\n",
              "      width: 32px;\n",
              "    }\n",
              "\n",
              "    .colab-df-convert:hover {\n",
              "      background-color: #E2EBFA;\n",
              "      box-shadow: 0px 1px 2px rgba(60, 64, 67, 0.3), 0px 1px 3px 1px rgba(60, 64, 67, 0.15);\n",
              "      fill: #174EA6;\n",
              "    }\n",
              "\n",
              "    [theme=dark] .colab-df-convert {\n",
              "      background-color: #3B4455;\n",
              "      fill: #D2E3FC;\n",
              "    }\n",
              "\n",
              "    [theme=dark] .colab-df-convert:hover {\n",
              "      background-color: #434B5C;\n",
              "      box-shadow: 0px 1px 3px 1px rgba(0, 0, 0, 0.15);\n",
              "      filter: drop-shadow(0px 1px 2px rgba(0, 0, 0, 0.3));\n",
              "      fill: #FFFFFF;\n",
              "    }\n",
              "  </style>\n",
              "\n",
              "      <script>\n",
              "        const buttonEl =\n",
              "          document.querySelector('#df-aa2ae4b3-c797-4c2b-8038-a6b621ecba2e button.colab-df-convert');\n",
              "        buttonEl.style.display =\n",
              "          google.colab.kernel.accessAllowed ? 'block' : 'none';\n",
              "\n",
              "        async function convertToInteractive(key) {\n",
              "          const element = document.querySelector('#df-aa2ae4b3-c797-4c2b-8038-a6b621ecba2e');\n",
              "          const dataTable =\n",
              "            await google.colab.kernel.invokeFunction('convertToInteractive',\n",
              "                                                     [key], {});\n",
              "          if (!dataTable) return;\n",
              "\n",
              "          const docLinkHtml = 'Like what you see? Visit the ' +\n",
              "            '<a target=\"_blank\" href=https://colab.research.google.com/notebooks/data_table.ipynb>data table notebook</a>'\n",
              "            + ' to learn more about interactive tables.';\n",
              "          element.innerHTML = '';\n",
              "          dataTable['output_type'] = 'display_data';\n",
              "          await google.colab.output.renderOutput(dataTable, element);\n",
              "          const docLink = document.createElement('div');\n",
              "          docLink.innerHTML = docLinkHtml;\n",
              "          element.appendChild(docLink);\n",
              "        }\n",
              "      </script>\n",
              "    </div>\n",
              "  </div>\n",
              "  "
            ]
          },
          "metadata": {},
          "execution_count": 6
        }
      ]
    },
    {
      "cell_type": "markdown",
      "source": [
        "# Podstawowa statystyka"
      ],
      "metadata": {
        "id": "7sdnK_Jr9H77"
      }
    },
    {
      "cell_type": "code",
      "source": [
        "def basicStat(column):\n",
        "    print('Minimum: ', column.min(), ' Maksimum: ', column.max(), ' Średnia: ', round(column.mean(), 2), ' Odchylenie standardowe: ', round(column.std(), 2))"
      ],
      "metadata": {
        "id": "fKoydefI5q43"
      },
      "execution_count": null,
      "outputs": []
    },
    {
      "cell_type": "code",
      "source": [
        "toAnalyze = ['Nowe przypadki', 'Przypadki (kumulatywnie)', 'Zgony', \n",
        "                'Zgony kumulatywnie', 'Ozdrowieńcy', 'Ozdrowieńcy kumulatywnie',\n",
        "                'Aktywne przypadki', 'Kwarantanna', 'Nadzór']"
      ],
      "metadata": {
        "id": "npYHjqKy_O_i"
      },
      "execution_count": null,
      "outputs": []
    },
    {
      "cell_type": "code",
      "source": [
        "for name in toAnalyze:\n",
        "    print(name)\n",
        "    basicStat(data[name])\n",
        "    print()"
      ],
      "metadata": {
        "colab": {
          "base_uri": "https://localhost:8080/"
        },
        "id": "FqVzawJ_8Pfh",
        "outputId": "2d0f337c-2f6b-46de-a0dc-1b20ae5ccaad"
      },
      "execution_count": null,
      "outputs": [
        {
          "output_type": "stream",
          "name": "stdout",
          "text": [
            "Nowe przypadki\n",
            "Minimum:  193  Maksimum:  657  Średnia:  356.64  Odchylenie standardowe:  99.21\n",
            "\n",
            "Przypadki (kumulatywnie)\n",
            "Minimum:  13105  Maksimum:  45688  Średnia:  29164.24  Odchylenie standardowe:  9298.24\n",
            "\n",
            "Zgony\n",
            "Minimum:  2  Maksimum:  30  Średnia:  11.67  Odchylenie standardowe:  6.23\n",
            "\n",
            "Zgony kumulatywnie\n",
            "Minimum:  649  Maksimum:  1716  Średnia:  1252.17  Odchylenie standardowe:  314.72\n",
            "\n",
            "Ozdrowieńcy\n",
            "Minimum:  82  Maksimum:  754  Średnia:  335.68  Odchylenie standardowe:  155.72\n",
            "\n",
            "Ozdrowieńcy kumulatywnie\n",
            "Minimum:  3762  Maksimum:  34374  Średnia:  17383.41  Odchylenie standardowe:  9418.23\n",
            "\n",
            "Aktywne przypadki\n",
            "Minimum:  7837  Maksimum:  14099  Średnia:  10528.65  Odchylenie standardowe:  1814.76\n",
            "\n",
            "Kwarantanna\n",
            "Minimum:  76645  Maksimum:  104024  Średnia:  88849.66  Odchylenie standardowe:  7244.12\n",
            "\n",
            "Nadzór\n",
            "Minimum:  6222  Maksimum:  20079  Średnia:  15324.05  Odchylenie standardowe:  4298.8\n",
            "\n"
          ]
        }
      ]
    },
    {
      "cell_type": "code",
      "source": [
        "data['Nowe przypadki'].plot.line()"
      ],
      "metadata": {
        "colab": {
          "base_uri": "https://localhost:8080/",
          "height": 283
        },
        "id": "7PcJIb0R_KKA",
        "outputId": "a1637a16-f11b-4efa-b150-3e081c46b5e9"
      },
      "execution_count": null,
      "outputs": [
        {
          "output_type": "execute_result",
          "data": {
            "text/plain": [
              "<matplotlib.axes._subplots.AxesSubplot at 0x7f5e1cd92e10>"
            ]
          },
          "metadata": {},
          "execution_count": 33
        },
        {
          "output_type": "display_data",
          "data": {
            "text/plain": [
              "<Figure size 432x288 with 1 Axes>"
            ],
            "image/png": "[encoded data removed]"
          },
          "metadata": {
            "needs_background": "light"
          }
        }
      ]
    },
    {
      "cell_type": "code",
      "source": [
        "data['Przypadki (kumulatywnie)'].plot.line()"
      ],
      "metadata": {
        "colab": {
          "base_uri": "https://localhost:8080/",
          "height": 283
        },
        "id": "ToPK7N7E_2y-",
        "outputId": "90f91cc4-1970-42d8-c032-a4ca703d03d6"
      },
      "execution_count": null,
      "outputs": [
        {
          "output_type": "execute_result",
          "data": {
            "text/plain": [
              "<matplotlib.axes._subplots.AxesSubplot at 0x7f5e1cebe790>"
            ]
          },
          "metadata": {},
          "execution_count": 31
        },
        {
          "output_type": "display_data",
          "data": {
            "text/plain": [
              "<Figure size 432x288 with 1 Axes>"
            ],
            "image/png": "[encoded data removed]"
          },
          "metadata": {
            "needs_background": "light"
          }
        }
      ]
    },
    {
      "cell_type": "code",
      "source": [
        "data['Zgony'].plot.line()"
      ],
      "metadata": {
        "colab": {
          "base_uri": "https://localhost:8080/",
          "height": 283
        },
        "id": "n6V6Vh2KABd8",
        "outputId": "0f0ac0ca-5f22-4dca-ba3f-cbe5b7e22bb0"
      },
      "execution_count": null,
      "outputs": [
        {
          "output_type": "execute_result",
          "data": {
            "text/plain": [
              "<matplotlib.axes._subplots.AxesSubplot at 0x7f5e1cd64dd0>"
            ]
          },
          "metadata": {},
          "execution_count": 34
        },
        {
          "output_type": "display_data",
          "data": {
            "text/plain": [
              "<Figure size 432x288 with 1 Axes>"
            ],
            "image/png": "[encoded data removed]"
          },
          "metadata": {
            "needs_background": "light"
          }
        }
      ]
    },
    {
      "cell_type": "code",
      "source": [
        "data['Zgony kumulatywnie'].plot.line()"
      ],
      "metadata": {
        "colab": {
          "base_uri": "https://localhost:8080/",
          "height": 283
        },
        "id": "LtAySnQ8AZOd",
        "outputId": "c99916fc-9e7e-418b-f97c-45378c378f89"
      },
      "execution_count": null,
      "outputs": [
        {
          "output_type": "execute_result",
          "data": {
            "text/plain": [
              "<matplotlib.axes._subplots.AxesSubplot at 0x7f5e1cce1250>"
            ]
          },
          "metadata": {},
          "execution_count": 35
        },
        {
          "output_type": "display_data",
          "data": {
            "text/plain": [
              "<Figure size 432x288 with 1 Axes>"
            ],
            "image/png": "[encoded data removed]"
          },
          "metadata": {
            "needs_background": "light"
          }
        }
      ]
    },
    {
      "cell_type": "code",
      "source": [
        "data['Ozdrowieńcy'].plot.line()"
      ],
      "metadata": {
        "colab": {
          "base_uri": "https://localhost:8080/",
          "height": 283
        },
        "id": "WxhHrjuoAipx",
        "outputId": "17757c15-3894-4c03-f651-d707dfeb209f"
      },
      "execution_count": null,
      "outputs": [
        {
          "output_type": "execute_result",
          "data": {
            "text/plain": [
              "<matplotlib.axes._subplots.AxesSubplot at 0x7f5e1cf05690>"
            ]
          },
          "metadata": {},
          "execution_count": 36
        },
        {
          "output_type": "display_data",
          "data": {
            "text/plain": [
              "<Figure size 432x288 with 1 Axes>"
            ],
            "image/png": "[encoded data removed]"
          },
          "metadata": {
            "needs_background": "light"
          }
        }
      ]
    },
    {
      "cell_type": "code",
      "source": [
        "data['Ozdrowieńcy kumulatywnie'].plot.line()"
      ],
      "metadata": {
        "colab": {
          "base_uri": "https://localhost:8080/",
          "height": 283
        },
        "id": "NzKuLRgvA0fn",
        "outputId": "61456d22-f12e-4996-d0fc-34fc2c6d533f"
      },
      "execution_count": null,
      "outputs": [
        {
          "output_type": "execute_result",
          "data": {
            "text/plain": [
              "<matplotlib.axes._subplots.AxesSubplot at 0x7f5e1a916850>"
            ]
          },
          "metadata": {},
          "execution_count": 38
        },
        {
          "output_type": "display_data",
          "data": {
            "text/plain": [
              "<Figure size 432x288 with 1 Axes>"
            ],
            "image/png": "[encoded data removed]"
          },
          "metadata": {
            "needs_background": "light"
          }
        }
      ]
    },
    {
      "cell_type": "code",
      "source": [
        "data['Aktywne przypadki'].plot.line()"
      ],
      "metadata": {
        "colab": {
          "base_uri": "https://localhost:8080/",
          "height": 283
        },
        "id": "s1GYMjnTA_fS",
        "outputId": "a77746ce-7ba3-447b-a7f5-ce1de552f1e7"
      },
      "execution_count": null,
      "outputs": [
        {
          "output_type": "execute_result",
          "data": {
            "text/plain": [
              "<matplotlib.axes._subplots.AxesSubplot at 0x7f5e1a875110>"
            ]
          },
          "metadata": {},
          "execution_count": 40
        },
        {
          "output_type": "display_data",
          "data": {
            "text/plain": [
              "<Figure size 432x288 with 1 Axes>"
            ],
            "image/png": "[encoded data removed]"
          },
          "metadata": {
            "needs_background": "light"
          }
        }
      ]
    },
    {
      "cell_type": "code",
      "source": [
        "data['Kwarantanna'].plot.line()"
      ],
      "metadata": {
        "colab": {
          "base_uri": "https://localhost:8080/",
          "height": 285
        },
        "id": "pzZSiUqnBJE7",
        "outputId": "63cbf8b8-be92-4057-b7c8-9cba798ba281"
      },
      "execution_count": null,
      "outputs": [
        {
          "output_type": "execute_result",
          "data": {
            "text/plain": [
              "<matplotlib.axes._subplots.AxesSubplot at 0x7f5e1cebed50>"
            ]
          },
          "metadata": {},
          "execution_count": 41
        },
        {
          "output_type": "display_data",
          "data": {
            "text/plain": [
              "<Figure size 432x288 with 1 Axes>"
            ],
            "image/png": "[encoded data removed]"
          },
          "metadata": {
            "needs_background": "light"
          }
        }
      ]
    },
    {
      "cell_type": "code",
      "source": [
        "data['Nadzór'].plot.line()"
      ],
      "metadata": {
        "colab": {
          "base_uri": "https://localhost:8080/",
          "height": 283
        },
        "id": "Kc_6XVS0BSZD",
        "outputId": "f8887126-018b-4659-cd5f-dc8215d86e55"
      },
      "execution_count": null,
      "outputs": [
        {
          "output_type": "execute_result",
          "data": {
            "text/plain": [
              "<matplotlib.axes._subplots.AxesSubplot at 0x7f5e1ccaa590>"
            ]
          },
          "metadata": {},
          "execution_count": 46
        },
        {
          "output_type": "display_data",
          "data": {
            "text/plain": [
              "<Figure size 432x288 with 1 Axes>"
            ],
            "image/png": "[encoded data removed]"
          },
          "metadata": {
            "needs_background": "light"
          }
        }
      ]
    },
    {
      "cell_type": "markdown",
      "source": [
        "# Grupowanie po miesiącu"
      ],
      "metadata": {
        "id": "TQp1bVzcCiQW"
      }
    },
    {
      "cell_type": "code",
      "source": [
        "dataToGroup = data[['Nowe przypadki', 'Zgony', 'Ozdrowieńcy',\n",
        "            'Aktywne przypadki', 'Kwarantanna', 'Nadzór']]\n",
        "\n",
        "months = data['Data'].apply(lambda d: (dt.datetime.strptime(d, \"%d.%m.%Y\")).month)\n",
        "dataToGroup['Miesiąc'] = months\n",
        "dataToGroup"
      ],
      "metadata": {
        "colab": {
          "base_uri": "https://localhost:8080/",
          "height": 534
        },
        "id": "bWvjDmhkCl7e",
        "outputId": "aa0ad623-1b14-4612-e4e8-5147f24e1a54"
      },
      "execution_count": null,
      "outputs": [
        {
          "output_type": "stream",
          "name": "stderr",
          "text": [
            "/usr/local/lib/python3.7/dist-packages/ipykernel_launcher.py:5: SettingWithCopyWarning: \n",
            "A value is trying to be set on a copy of a slice from a DataFrame.\n",
            "Try using .loc[row_indexer,col_indexer] = value instead\n",
            "\n",
            "See the caveats in the documentation: https://pandas.pydata.org/pandas-docs/stable/user_guide/indexing.html#returning-a-view-versus-a-copy\n",
            "  \"\"\"\n"
          ]
        },
        {
          "output_type": "execute_result",
          "data": {
            "text/plain": [
              "    Nowe przypadki  Zgony  Ozdrowieńcy  Aktywne przypadki  Kwarantanna  \\\n",
              "0              228      7          271               8694        95625   \n",
              "1              270     12          183               8769        96612   \n",
              "2              318     15          150               8922        96699   \n",
              "3              313     19          185               9031       100765   \n",
              "4              425     19          375               9062       101395   \n",
              "..             ...    ...          ...                ...          ...   \n",
              "87             337      5          187               8683        94920   \n",
              "88             502      6          147               9032        95453   \n",
              "89             512     12          453               9079        97561   \n",
              "90             615     15          344               9335        97189   \n",
              "91             657      7          387               9598        98282   \n",
              "\n",
              "    Nadzór  Miesiąc  \n",
              "0    18383        5  \n",
              "1    18306        5  \n",
              "2    17785        5  \n",
              "3    17291        5  \n",
              "4    17081        5  \n",
              "..     ...      ...  \n",
              "87    7245        7  \n",
              "88    6222        7  \n",
              "89    8094        7  \n",
              "90    8069        7  \n",
              "91    8241        7  \n",
              "\n",
              "[92 rows x 7 columns]"
            ],
            "text/html": [
              "\n",
              "  <div id=\"df-60716b1c-01d2-4b2c-912b-74a95c13ceb2\">\n",
              "    <div class=\"colab-df-container\">\n",
              "      <div>\n",
              "<style scoped>\n",
              "    .dataframe tbody tr th:only-of-type {\n",
              "        vertical-align: middle;\n",
              "    }\n",
              "\n",
              "    .dataframe tbody tr th {\n",
              "        vertical-align: top;\n",
              "    }\n",
              "\n",
              "    .dataframe thead th {\n",
              "        text-align: right;\n",
              "    }\n",
              "</style>\n",
              "<table border=\"1\" class=\"dataframe\">\n",
              "  <thead>\n",
              "    <tr style=\"text-align: right;\">\n",
              "      <th></th>\n",
              "      <th>Nowe przypadki</th>\n",
              "      <th>Zgony</th>\n",
              "      <th>Ozdrowieńcy</th>\n",
              "      <th>Aktywne przypadki</th>\n",
              "      <th>Kwarantanna</th>\n",
              "      <th>Nadzór</th>\n",
              "      <th>Miesiąc</th>\n",
              "    </tr>\n",
              "  </thead>\n",
              "  <tbody>\n",
              "    <tr>\n",
              "      <th>0</th>\n",
              "      <td>228</td>\n",
              "      <td>7</td>\n",
              "      <td>271</td>\n",
              "      <td>8694</td>\n",
              "      <td>95625</td>\n",
              "      <td>18383</td>\n",
              "      <td>5</td>\n",
              "    </tr>\n",
              "    <tr>\n",
              "      <th>1</th>\n",
              "      <td>270</td>\n",
              "      <td>12</td>\n",
              "      <td>183</td>\n",
              "      <td>8769</td>\n",
              "      <td>96612</td>\n",
              "      <td>18306</td>\n",
              "      <td>5</td>\n",
              "    </tr>\n",
              "    <tr>\n",
              "      <th>2</th>\n",
              "      <td>318</td>\n",
              "      <td>15</td>\n",
              "      <td>150</td>\n",
              "      <td>8922</td>\n",
              "      <td>96699</td>\n",
              "      <td>17785</td>\n",
              "      <td>5</td>\n",
              "    </tr>\n",
              "    <tr>\n",
              "      <th>3</th>\n",
              "      <td>313</td>\n",
              "      <td>19</td>\n",
              "      <td>185</td>\n",
              "      <td>9031</td>\n",
              "      <td>100765</td>\n",
              "      <td>17291</td>\n",
              "      <td>5</td>\n",
              "    </tr>\n",
              "    <tr>\n",
              "      <th>4</th>\n",
              "      <td>425</td>\n",
              "      <td>19</td>\n",
              "      <td>375</td>\n",
              "      <td>9062</td>\n",
              "      <td>101395</td>\n",
              "      <td>17081</td>\n",
              "      <td>5</td>\n",
              "    </tr>\n",
              "    <tr>\n",
              "      <th>...</th>\n",
              "      <td>...</td>\n",
              "      <td>...</td>\n",
              "      <td>...</td>\n",
              "      <td>...</td>\n",
              "      <td>...</td>\n",
              "      <td>...</td>\n",
              "      <td>...</td>\n",
              "    </tr>\n",
              "    <tr>\n",
              "      <th>87</th>\n",
              "      <td>337</td>\n",
              "      <td>5</td>\n",
              "      <td>187</td>\n",
              "      <td>8683</td>\n",
              "      <td>94920</td>\n",
              "      <td>7245</td>\n",
              "      <td>7</td>\n",
              "    </tr>\n",
              "    <tr>\n",
              "      <th>88</th>\n",
              "      <td>502</td>\n",
              "      <td>6</td>\n",
              "      <td>147</td>\n",
              "      <td>9032</td>\n",
              "      <td>95453</td>\n",
              "      <td>6222</td>\n",
              "      <td>7</td>\n",
              "    </tr>\n",
              "    <tr>\n",
              "      <th>89</th>\n",
              "      <td>512</td>\n",
              "      <td>12</td>\n",
              "      <td>453</td>\n",
              "      <td>9079</td>\n",
              "      <td>97561</td>\n",
              "      <td>8094</td>\n",
              "      <td>7</td>\n",
              "    </tr>\n",
              "    <tr>\n",
              "      <th>90</th>\n",
              "      <td>615</td>\n",
              "      <td>15</td>\n",
              "      <td>344</td>\n",
              "      <td>9335</td>\n",
              "      <td>97189</td>\n",
              "      <td>8069</td>\n",
              "      <td>7</td>\n",
              "    </tr>\n",
              "    <tr>\n",
              "      <th>91</th>\n",
              "      <td>657</td>\n",
              "      <td>7</td>\n",
              "      <td>387</td>\n",
              "      <td>9598</td>\n",
              "      <td>98282</td>\n",
              "      <td>8241</td>\n",
              "      <td>7</td>\n",
              "    </tr>\n",
              "  </tbody>\n",
              "</table>\n",
              "<p>92 rows × 7 columns</p>\n",
              "</div>\n",
              "      <button class=\"colab-df-convert\" onclick=\"convertToInteractive('df-60716b1c-01d2-4b2c-912b-74a95c13ceb2')\"\n",
              "              title=\"Convert this dataframe to an interactive table.\"\n",
              "              style=\"display:none;\">\n",
              "        \n",
              "  <svg xmlns=\"http://www.w3.org/2000/svg\" height=\"24px\"viewBox=\"0 0 24 24\"\n",
              "       width=\"24px\">\n",
              "    <path d=\"M0 0h24v24H0V0z\" fill=\"none\"/>\n",
              "    <path d=\"M18.56 5.44l.94 2.06.94-2.06 2.06-.94-2.06-.94-.94-2.06-.94 2.06-2.06.94zm-11 1L8.5 8.5l.94-2.06 2.06-.94-2.06-.94L8.5 2.5l-.94 2.06-2.06.94zm10 10l.94 2.06.94-2.06 2.06-.94-2.06-.94-.94-2.06-.94 2.06-2.06.94z\"/><path d=\"M17.41 7.96l-1.37-1.37c-.4-.4-.92-.59-1.43-.59-.52 0-1.04.2-1.43.59L10.3 9.45l-7.72 7.72c-.78.78-.78 2.05 0 2.83L4 21.41c.39.39.9.59 1.41.59.51 0 1.02-.2 1.41-.59l7.78-7.78 2.81-2.81c.8-.78.8-2.07 0-2.86zM5.41 20L4 18.59l7.72-7.72 1.47 1.35L5.41 20z\"/>\n",
              "  </svg>\n",
              "      </button>\n",
              "      \n",
              "  <style>\n",
              "    .colab-df-container {\n",
              "      display:flex;\n",
              "      flex-wrap:wrap;\n",
              "      gap: 12px;\n",
              "    }\n",
              "\n",
              "    .colab-df-convert {\n",
              "      background-color: #E8F0FE;\n",
              "      border: none;\n",
              "      border-radius: 50%;\n",
              "      cursor: pointer;\n",
              "      display: none;\n",
              "      fill: #1967D2;\n",
              "      height: 32px;\n",
              "      padding: 0 0 0 0;\n",
              "      width: 32px;\n",
              "    }\n",
              "\n",
              "    .colab-df-convert:hover {\n",
              "      background-color: #E2EBFA;\n",
              "      box-shadow: 0px 1px 2px rgba(60, 64, 67, 0.3), 0px 1px 3px 1px rgba(60, 64, 67, 0.15);\n",
              "      fill: #174EA6;\n",
              "    }\n",
              "\n",
              "    [theme=dark] .colab-df-convert {\n",
              "      background-color: #3B4455;\n",
              "      fill: #D2E3FC;\n",
              "    }\n",
              "\n",
              "    [theme=dark] .colab-df-convert:hover {\n",
              "      background-color: #434B5C;\n",
              "      box-shadow: 0px 1px 3px 1px rgba(0, 0, 0, 0.15);\n",
              "      filter: drop-shadow(0px 1px 2px rgba(0, 0, 0, 0.3));\n",
              "      fill: #FFFFFF;\n",
              "    }\n",
              "  </style>\n",
              "\n",
              "      <script>\n",
              "        const buttonEl =\n",
              "          document.querySelector('#df-60716b1c-01d2-4b2c-912b-74a95c13ceb2 button.colab-df-convert');\n",
              "        buttonEl.style.display =\n",
              "          google.colab.kernel.accessAllowed ? 'block' : 'none';\n",
              "\n",
              "        async function convertToInteractive(key) {\n",
              "          const element = document.querySelector('#df-60716b1c-01d2-4b2c-912b-74a95c13ceb2');\n",
              "          const dataTable =\n",
              "            await google.colab.kernel.invokeFunction('convertToInteractive',\n",
              "                                                     [key], {});\n",
              "          if (!dataTable) return;\n",
              "\n",
              "          const docLinkHtml = 'Like what you see? Visit the ' +\n",
              "            '<a target=\"_blank\" href=https://colab.research.google.com/notebooks/data_table.ipynb>data table notebook</a>'\n",
              "            + ' to learn more about interactive tables.';\n",
              "          element.innerHTML = '';\n",
              "          dataTable['output_type'] = 'display_data';\n",
              "          await google.colab.output.renderOutput(dataTable, element);\n",
              "          const docLink = document.createElement('div');\n",
              "          docLink.innerHTML = docLinkHtml;\n",
              "          element.appendChild(docLink);\n",
              "        }\n",
              "      </script>\n",
              "    </div>\n",
              "  </div>\n",
              "  "
            ]
          },
          "metadata": {},
          "execution_count": 61
        }
      ]
    },
    {
      "cell_type": "code",
      "source": [
        "monthSums = dataToGroup.groupby('Miesiąc').sum()\n",
        "monthSums"
      ],
      "metadata": {
        "colab": {
          "base_uri": "https://localhost:8080/",
          "height": 174
        },
        "id": "EKZsyyLpGBgz",
        "outputId": "42a0e7dc-937b-4687-970b-8542f876c31f"
      },
      "execution_count": null,
      "outputs": [
        {
          "output_type": "execute_result",
          "data": {
            "text/plain": [
              "         Nowe przypadki  Zgony  Ozdrowieńcy  Aktywne przypadki  Kwarantanna  \\\n",
              "Miesiąc                                                                       \n",
              "5                 10909    421         7958             309091      2740885   \n",
              "6                 10607    400        10342             380329      2657180   \n",
              "7                 11295    253        12583             279216      2776104   \n",
              "\n",
              "         Nadzór  \n",
              "Miesiąc          \n",
              "5        571684  \n",
              "6        535877  \n",
              "7        302252  "
            ],
            "text/html": [
              "\n",
              "  <div id=\"df-f63514c2-852f-4b63-9942-bd0974143748\">\n",
              "    <div class=\"colab-df-container\">\n",
              "      <div>\n",
              "<style scoped>\n",
              "    .dataframe tbody tr th:only-of-type {\n",
              "        vertical-align: middle;\n",
              "    }\n",
              "\n",
              "    .dataframe tbody tr th {\n",
              "        vertical-align: top;\n",
              "    }\n",
              "\n",
              "    .dataframe thead th {\n",
              "        text-align: right;\n",
              "    }\n",
              "</style>\n",
              "<table border=\"1\" class=\"dataframe\">\n",
              "  <thead>\n",
              "    <tr style=\"text-align: right;\">\n",
              "      <th></th>\n",
              "      <th>Nowe przypadki</th>\n",
              "      <th>Zgony</th>\n",
              "      <th>Ozdrowieńcy</th>\n",
              "      <th>Aktywne przypadki</th>\n",
              "      <th>Kwarantanna</th>\n",
              "      <th>Nadzór</th>\n",
              "    </tr>\n",
              "    <tr>\n",
              "      <th>Miesiąc</th>\n",
              "      <th></th>\n",
              "      <th></th>\n",
              "      <th></th>\n",
              "      <th></th>\n",
              "      <th></th>\n",
              "      <th></th>\n",
              "    </tr>\n",
              "  </thead>\n",
              "  <tbody>\n",
              "    <tr>\n",
              "      <th>5</th>\n",
              "      <td>10909</td>\n",
              "      <td>421</td>\n",
              "      <td>7958</td>\n",
              "      <td>309091</td>\n",
              "      <td>2740885</td>\n",
              "      <td>571684</td>\n",
              "    </tr>\n",
              "    <tr>\n",
              "      <th>6</th>\n",
              "      <td>10607</td>\n",
              "      <td>400</td>\n",
              "      <td>10342</td>\n",
              "      <td>380329</td>\n",
              "      <td>2657180</td>\n",
              "      <td>535877</td>\n",
              "    </tr>\n",
              "    <tr>\n",
              "      <th>7</th>\n",
              "      <td>11295</td>\n",
              "      <td>253</td>\n",
              "      <td>12583</td>\n",
              "      <td>279216</td>\n",
              "      <td>2776104</td>\n",
              "      <td>302252</td>\n",
              "    </tr>\n",
              "  </tbody>\n",
              "</table>\n",
              "</div>\n",
              "      <button class=\"colab-df-convert\" onclick=\"convertToInteractive('df-f63514c2-852f-4b63-9942-bd0974143748')\"\n",
              "              title=\"Convert this dataframe to an interactive table.\"\n",
              "              style=\"display:none;\">\n",
              "        \n",
              "  <svg xmlns=\"http://www.w3.org/2000/svg\" height=\"24px\"viewBox=\"0 0 24 24\"\n",
              "       width=\"24px\">\n",
              "    <path d=\"M0 0h24v24H0V0z\" fill=\"none\"/>\n",
              "    <path d=\"M18.56 5.44l.94 2.06.94-2.06 2.06-.94-2.06-.94-.94-2.06-.94 2.06-2.06.94zm-11 1L8.5 8.5l.94-2.06 2.06-.94-2.06-.94L8.5 2.5l-.94 2.06-2.06.94zm10 10l.94 2.06.94-2.06 2.06-.94-2.06-.94-.94-2.06-.94 2.06-2.06.94z\"/><path d=\"M17.41 7.96l-1.37-1.37c-.4-.4-.92-.59-1.43-.59-.52 0-1.04.2-1.43.59L10.3 9.45l-7.72 7.72c-.78.78-.78 2.05 0 2.83L4 21.41c.39.39.9.59 1.41.59.51 0 1.02-.2 1.41-.59l7.78-7.78 2.81-2.81c.8-.78.8-2.07 0-2.86zM5.41 20L4 18.59l7.72-7.72 1.47 1.35L5.41 20z\"/>\n",
              "  </svg>\n",
              "      </button>\n",
              "      \n",
              "  <style>\n",
              "    .colab-df-container {\n",
              "      display:flex;\n",
              "      flex-wrap:wrap;\n",
              "      gap: 12px;\n",
              "    }\n",
              "\n",
              "    .colab-df-convert {\n",
              "      background-color: #E8F0FE;\n",
              "      border: none;\n",
              "      border-radius: 50%;\n",
              "      cursor: pointer;\n",
              "      display: none;\n",
              "      fill: #1967D2;\n",
              "      height: 32px;\n",
              "      padding: 0 0 0 0;\n",
              "      width: 32px;\n",
              "    }\n",
              "\n",
              "    .colab-df-convert:hover {\n",
              "      background-color: #E2EBFA;\n",
              "      box-shadow: 0px 1px 2px rgba(60, 64, 67, 0.3), 0px 1px 3px 1px rgba(60, 64, 67, 0.15);\n",
              "      fill: #174EA6;\n",
              "    }\n",
              "\n",
              "    [theme=dark] .colab-df-convert {\n",
              "      background-color: #3B4455;\n",
              "      fill: #D2E3FC;\n",
              "    }\n",
              "\n",
              "    [theme=dark] .colab-df-convert:hover {\n",
              "      background-color: #434B5C;\n",
              "      box-shadow: 0px 1px 3px 1px rgba(0, 0, 0, 0.15);\n",
              "      filter: drop-shadow(0px 1px 2px rgba(0, 0, 0, 0.3));\n",
              "      fill: #FFFFFF;\n",
              "    }\n",
              "  </style>\n",
              "\n",
              "      <script>\n",
              "        const buttonEl =\n",
              "          document.querySelector('#df-f63514c2-852f-4b63-9942-bd0974143748 button.colab-df-convert');\n",
              "        buttonEl.style.display =\n",
              "          google.colab.kernel.accessAllowed ? 'block' : 'none';\n",
              "\n",
              "        async function convertToInteractive(key) {\n",
              "          const element = document.querySelector('#df-f63514c2-852f-4b63-9942-bd0974143748');\n",
              "          const dataTable =\n",
              "            await google.colab.kernel.invokeFunction('convertToInteractive',\n",
              "                                                     [key], {});\n",
              "          if (!dataTable) return;\n",
              "\n",
              "          const docLinkHtml = 'Like what you see? Visit the ' +\n",
              "            '<a target=\"_blank\" href=https://colab.research.google.com/notebooks/data_table.ipynb>data table notebook</a>'\n",
              "            + ' to learn more about interactive tables.';\n",
              "          element.innerHTML = '';\n",
              "          dataTable['output_type'] = 'display_data';\n",
              "          await google.colab.output.renderOutput(dataTable, element);\n",
              "          const docLink = document.createElement('div');\n",
              "          docLink.innerHTML = docLinkHtml;\n",
              "          element.appendChild(docLink);\n",
              "        }\n",
              "      </script>\n",
              "    </div>\n",
              "  </div>\n",
              "  "
            ]
          },
          "metadata": {},
          "execution_count": 68
        }
      ]
    },
    {
      "cell_type": "code",
      "source": [
        "monthAvg = dataToGroup.groupby('Miesiąc').mean().apply(lambda v: round(v, 2))\n",
        "monthAvg"
      ],
      "metadata": {
        "colab": {
          "base_uri": "https://localhost:8080/",
          "height": 174
        },
        "id": "N12qe5jZGa2S",
        "outputId": "32997006-544e-4c6b-a12b-6adef98e0182"
      },
      "execution_count": null,
      "outputs": [
        {
          "output_type": "execute_result",
          "data": {
            "text/plain": [
              "         Nowe przypadki  Zgony  Ozdrowieńcy  Aktywne przypadki  Kwarantanna  \\\n",
              "Miesiąc                                                                       \n",
              "5                351.90  13.58       256.71            9970.68     88415.65   \n",
              "6                353.57  13.33       344.73           12677.63     88572.67   \n",
              "7                364.35   8.16       405.90            9006.97     89551.74   \n",
              "\n",
              "           Nadzór  \n",
              "Miesiąc            \n",
              "5        18441.42  \n",
              "6        17862.57  \n",
              "7         9750.06  "
            ],
            "text/html": [
              "\n",
              "  <div id=\"df-c9153d74-12a5-4364-bf38-94da39573d54\">\n",
              "    <div class=\"colab-df-container\">\n",
              "      <div>\n",
              "<style scoped>\n",
              "    .dataframe tbody tr th:only-of-type {\n",
              "        vertical-align: middle;\n",
              "    }\n",
              "\n",
              "    .dataframe tbody tr th {\n",
              "        vertical-align: top;\n",
              "    }\n",
              "\n",
              "    .dataframe thead th {\n",
              "        text-align: right;\n",
              "    }\n",
              "</style>\n",
              "<table border=\"1\" class=\"dataframe\">\n",
              "  <thead>\n",
              "    <tr style=\"text-align: right;\">\n",
              "      <th></th>\n",
              "      <th>Nowe przypadki</th>\n",
              "      <th>Zgony</th>\n",
              "      <th>Ozdrowieńcy</th>\n",
              "      <th>Aktywne przypadki</th>\n",
              "      <th>Kwarantanna</th>\n",
              "      <th>Nadzór</th>\n",
              "    </tr>\n",
              "    <tr>\n",
              "      <th>Miesiąc</th>\n",
              "      <th></th>\n",
              "      <th></th>\n",
              "      <th></th>\n",
              "      <th></th>\n",
              "      <th></th>\n",
              "      <th></th>\n",
              "    </tr>\n",
              "  </thead>\n",
              "  <tbody>\n",
              "    <tr>\n",
              "      <th>5</th>\n",
              "      <td>351.90</td>\n",
              "      <td>13.58</td>\n",
              "      <td>256.71</td>\n",
              "      <td>9970.68</td>\n",
              "      <td>88415.65</td>\n",
              "      <td>18441.42</td>\n",
              "    </tr>\n",
              "    <tr>\n",
              "      <th>6</th>\n",
              "      <td>353.57</td>\n",
              "      <td>13.33</td>\n",
              "      <td>344.73</td>\n",
              "      <td>12677.63</td>\n",
              "      <td>88572.67</td>\n",
              "      <td>17862.57</td>\n",
              "    </tr>\n",
              "    <tr>\n",
              "      <th>7</th>\n",
              "      <td>364.35</td>\n",
              "      <td>8.16</td>\n",
              "      <td>405.90</td>\n",
              "      <td>9006.97</td>\n",
              "      <td>89551.74</td>\n",
              "      <td>9750.06</td>\n",
              "    </tr>\n",
              "  </tbody>\n",
              "</table>\n",
              "</div>\n",
              "      <button class=\"colab-df-convert\" onclick=\"convertToInteractive('df-c9153d74-12a5-4364-bf38-94da39573d54')\"\n",
              "              title=\"Convert this dataframe to an interactive table.\"\n",
              "              style=\"display:none;\">\n",
              "        \n",
              "  <svg xmlns=\"http://www.w3.org/2000/svg\" height=\"24px\"viewBox=\"0 0 24 24\"\n",
              "       width=\"24px\">\n",
              "    <path d=\"M0 0h24v24H0V0z\" fill=\"none\"/>\n",
              "    <path d=\"M18.56 5.44l.94 2.06.94-2.06 2.06-.94-2.06-.94-.94-2.06-.94 2.06-2.06.94zm-11 1L8.5 8.5l.94-2.06 2.06-.94-2.06-.94L8.5 2.5l-.94 2.06-2.06.94zm10 10l.94 2.06.94-2.06 2.06-.94-2.06-.94-.94-2.06-.94 2.06-2.06.94z\"/><path d=\"M17.41 7.96l-1.37-1.37c-.4-.4-.92-.59-1.43-.59-.52 0-1.04.2-1.43.59L10.3 9.45l-7.72 7.72c-.78.78-.78 2.05 0 2.83L4 21.41c.39.39.9.59 1.41.59.51 0 1.02-.2 1.41-.59l7.78-7.78 2.81-2.81c.8-.78.8-2.07 0-2.86zM5.41 20L4 18.59l7.72-7.72 1.47 1.35L5.41 20z\"/>\n",
              "  </svg>\n",
              "      </button>\n",
              "      \n",
              "  <style>\n",
              "    .colab-df-container {\n",
              "      display:flex;\n",
              "      flex-wrap:wrap;\n",
              "      gap: 12px;\n",
              "    }\n",
              "\n",
              "    .colab-df-convert {\n",
              "      background-color: #E8F0FE;\n",
              "      border: none;\n",
              "      border-radius: 50%;\n",
              "      cursor: pointer;\n",
              "      display: none;\n",
              "      fill: #1967D2;\n",
              "      height: 32px;\n",
              "      padding: 0 0 0 0;\n",
              "      width: 32px;\n",
              "    }\n",
              "\n",
              "    .colab-df-convert:hover {\n",
              "      background-color: #E2EBFA;\n",
              "      box-shadow: 0px 1px 2px rgba(60, 64, 67, 0.3), 0px 1px 3px 1px rgba(60, 64, 67, 0.15);\n",
              "      fill: #174EA6;\n",
              "    }\n",
              "\n",
              "    [theme=dark] .colab-df-convert {\n",
              "      background-color: #3B4455;\n",
              "      fill: #D2E3FC;\n",
              "    }\n",
              "\n",
              "    [theme=dark] .colab-df-convert:hover {\n",
              "      background-color: #434B5C;\n",
              "      box-shadow: 0px 1px 3px 1px rgba(0, 0, 0, 0.15);\n",
              "      filter: drop-shadow(0px 1px 2px rgba(0, 0, 0, 0.3));\n",
              "      fill: #FFFFFF;\n",
              "    }\n",
              "  </style>\n",
              "\n",
              "      <script>\n",
              "        const buttonEl =\n",
              "          document.querySelector('#df-c9153d74-12a5-4364-bf38-94da39573d54 button.colab-df-convert');\n",
              "        buttonEl.style.display =\n",
              "          google.colab.kernel.accessAllowed ? 'block' : 'none';\n",
              "\n",
              "        async function convertToInteractive(key) {\n",
              "          const element = document.querySelector('#df-c9153d74-12a5-4364-bf38-94da39573d54');\n",
              "          const dataTable =\n",
              "            await google.colab.kernel.invokeFunction('convertToInteractive',\n",
              "                                                     [key], {});\n",
              "          if (!dataTable) return;\n",
              "\n",
              "          const docLinkHtml = 'Like what you see? Visit the ' +\n",
              "            '<a target=\"_blank\" href=https://colab.research.google.com/notebooks/data_table.ipynb>data table notebook</a>'\n",
              "            + ' to learn more about interactive tables.';\n",
              "          element.innerHTML = '';\n",
              "          dataTable['output_type'] = 'display_data';\n",
              "          await google.colab.output.renderOutput(dataTable, element);\n",
              "          const docLink = document.createElement('div');\n",
              "          docLink.innerHTML = docLinkHtml;\n",
              "          element.appendChild(docLink);\n",
              "        }\n",
              "      </script>\n",
              "    </div>\n",
              "  </div>\n",
              "  "
            ]
          },
          "metadata": {},
          "execution_count": 71
        }
      ]
    },
    {
      "cell_type": "code",
      "source": [
        "monthSums['Ozdrowieńcy'].plot.bar()"
      ],
      "metadata": {
        "colab": {
          "base_uri": "https://localhost:8080/",
          "height": 294
        },
        "id": "BM-Z6hgXGwKj",
        "outputId": "fc8a8edc-aaeb-40cd-97b4-9c152a427e2a"
      },
      "execution_count": null,
      "outputs": [
        {
          "output_type": "execute_result",
          "data": {
            "text/plain": [
              "<matplotlib.axes._subplots.AxesSubplot at 0x7f5e1a4c5850>"
            ]
          },
          "metadata": {},
          "execution_count": 75
        },
        {
          "output_type": "display_data",
          "data": {
            "text/plain": [
              "<Figure size 432x288 with 1 Axes>"
            ],
            "image/png": "[encoded data removed]"
          },
          "metadata": {
            "needs_background": "light"
          }
        }
      ]
    },
    {
      "cell_type": "code",
      "source": [
        "monthAvg['Ozdrowieńcy'].plot.bar()"
      ],
      "metadata": {
        "colab": {
          "base_uri": "https://localhost:8080/",
          "height": 294
        },
        "id": "4eYECEk5JZsd",
        "outputId": "eec66b3f-d581-4809-b5d7-438fcb9c68a4"
      },
      "execution_count": null,
      "outputs": [
        {
          "output_type": "execute_result",
          "data": {
            "text/plain": [
              "<matplotlib.axes._subplots.AxesSubplot at 0x7f5e1a304110>"
            ]
          },
          "metadata": {},
          "execution_count": 79
        },
        {
          "output_type": "display_data",
          "data": {
            "text/plain": [
              "<Figure size 432x288 with 1 Axes>"
            ],
            "image/png": "[encoded data removed]"
          },
          "metadata": {
            "needs_background": "light"
          }
        }
      ]
    },
    {
      "cell_type": "code",
      "source": [
        "monthSums['Aktywne przypadki'].plot.bar()"
      ],
      "metadata": {
        "colab": {
          "base_uri": "https://localhost:8080/",
          "height": 294
        },
        "id": "NigRf8OUIh52",
        "outputId": "9e11318b-f765-4093-863a-e31d5f41be35"
      },
      "execution_count": null,
      "outputs": [
        {
          "output_type": "execute_result",
          "data": {
            "text/plain": [
              "<matplotlib.axes._subplots.AxesSubplot at 0x7f5e1a3a1690>"
            ]
          },
          "metadata": {},
          "execution_count": 77
        },
        {
          "output_type": "display_data",
          "data": {
            "text/plain": [
              "<Figure size 432x288 with 1 Axes>"
            ],
            "image/png": "[encoded data removed]"
          },
          "metadata": {
            "needs_background": "light"
          }
        }
      ]
    },
    {
      "cell_type": "code",
      "source": [
        "monthAvg['Aktywne przypadki'].plot.bar()"
      ],
      "metadata": {
        "colab": {
          "base_uri": "https://localhost:8080/",
          "height": 294
        },
        "id": "7fxjigbZJe0m",
        "outputId": "ec2f30aa-735d-4683-a4d8-76eb7abe028f"
      },
      "execution_count": null,
      "outputs": [
        {
          "output_type": "execute_result",
          "data": {
            "text/plain": [
              "<matplotlib.axes._subplots.AxesSubplot at 0x7f5e1a2cbf10>"
            ]
          },
          "metadata": {},
          "execution_count": 80
        },
        {
          "output_type": "display_data",
          "data": {
            "text/plain": [
              "<Figure size 432x288 with 1 Axes>"
            ],
            "image/png": "[encoded data removed]"
          },
          "metadata": {
            "needs_background": "light"
          }
        }
      ]
    },
    {
      "cell_type": "code",
      "source": [
        "monthSums['Nadzór'].plot.bar()"
      ],
      "metadata": {
        "colab": {
          "base_uri": "https://localhost:8080/",
          "height": 298
        },
        "id": "ko5iwGTPJTuu",
        "outputId": "ac7bd7f8-0c2c-4664-a0cd-329f15cd66d5"
      },
      "execution_count": null,
      "outputs": [
        {
          "output_type": "execute_result",
          "data": {
            "text/plain": [
              "<matplotlib.axes._subplots.AxesSubplot at 0x7f5e1a370750>"
            ]
          },
          "metadata": {},
          "execution_count": 78
        },
        {
          "output_type": "display_data",
          "data": {
            "text/plain": [
              "<Figure size 432x288 with 1 Axes>"
            ],
            "image/png": "[encoded data removed]"
          },
          "metadata": {
            "needs_background": "light"
          }
        }
      ]
    },
    {
      "cell_type": "code",
      "source": [
        "monthAvg['Nadzór'].plot.bar()"
      ],
      "metadata": {
        "colab": {
          "base_uri": "https://localhost:8080/",
          "height": 294
        },
        "id": "jTWWGmvBJkvF",
        "outputId": "3d464b72-8dcb-495b-dd97-74cfe7ca76a3"
      },
      "execution_count": null,
      "outputs": [
        {
          "output_type": "execute_result",
          "data": {
            "text/plain": [
              "<matplotlib.axes._subplots.AxesSubplot at 0x7f5e1a1e3bd0>"
            ]
          },
          "metadata": {},
          "execution_count": 81
        },
        {
          "output_type": "display_data",
          "data": {
            "text/plain": [
              "<Figure size 432x288 with 1 Axes>"
            ],
            "image/png": "[encoded data removed]"
          },
          "metadata": {
            "needs_background": "light"
          }
        }
      ]
    }
  ]
}